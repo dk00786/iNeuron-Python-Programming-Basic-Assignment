{
 "cells": [
  {
   "cell_type": "markdown",
   "metadata": {},
   "source": [
    "## Programming Assignment_1"
   ]
  },
  {
   "cell_type": "markdown",
   "metadata": {},
   "source": [
    "### Q.1 Write a Python program to print \"Hello Python\"?"
   ]
  },
  {
   "cell_type": "code",
   "execution_count": 2,
   "metadata": {},
   "outputs": [
    {
     "name": "stdout",
     "output_type": "stream",
     "text": [
      "Enter Input: Hello Python\n",
      "Hello Python\n"
     ]
    }
   ],
   "source": [
    "a = input(\"Enter Input: \")\n",
    "print(a)"
   ]
  },
  {
   "cell_type": "markdown",
   "metadata": {},
   "source": [
    "### Q.2 Write a Python program to do arithmetical operations addition and division.?"
   ]
  },
  {
   "cell_type": "code",
   "execution_count": 4,
   "metadata": {},
   "outputs": [
    {
     "name": "stdout",
     "output_type": "stream",
     "text": [
      "Enter Num_1: 2\n",
      "Enter Num_2: 8\n",
      "Enter Operation: addition\n",
      "addition is  10\n"
     ]
    }
   ],
   "source": [
    "a = int(input(\"Enter Num_1: \"))\n",
    "b = int(input(\"Enter Num_2: \"))\n",
    "ops = input(\"Enter Operation: \")\n",
    "if ops == \"addition\":\n",
    "    A = a+b\n",
    "    print(\"addition is \",A)\n",
    "elif ops == \"division\":\n",
    "    B = a/b\n",
    "    print(\"Division is \",B)\n",
    "else:\n",
    "    print(\"Enter correct operation\")"
   ]
  },
  {
   "cell_type": "code",
   "execution_count": 5,
   "metadata": {},
   "outputs": [
    {
     "name": "stdout",
     "output_type": "stream",
     "text": [
      "Enter Num_1: 3\n",
      "Enter Num_2: 6\n",
      "Enter Operation: division\n",
      "Division is  0.5\n"
     ]
    }
   ],
   "source": [
    "a = int(input(\"Enter Num_1: \"))\n",
    "b = int(input(\"Enter Num_2: \"))\n",
    "ops = input(\"Enter Operation: \")\n",
    "if ops == \"addition\":\n",
    "    A = a+b\n",
    "    print(\"addition is \",A)\n",
    "elif ops == \"division\":\n",
    "    B = a/b\n",
    "    print(\"Division is \",B)\n",
    "else:\n",
    "    print(\"Enter correct operation\")"
   ]
  },
  {
   "cell_type": "markdown",
   "metadata": {},
   "source": [
    "### Q.3 Write a Python program to find the area of a triangle?"
   ]
  },
  {
   "cell_type": "code",
   "execution_count": 9,
   "metadata": {},
   "outputs": [
    {
     "name": "stdout",
     "output_type": "stream",
     "text": [
      "15.0\n"
     ]
    }
   ],
   "source": [
    "def Area_of_triangle(base,height):\n",
    "    Area = (base*height)/2\n",
    "    print(Area)\n",
    "    \n",
    "area = Area_of_triangle(5,6)"
   ]
  },
  {
   "cell_type": "markdown",
   "metadata": {},
   "source": [
    "### Q.4 Write a Python program to swap two variables?"
   ]
  },
  {
   "cell_type": "code",
   "execution_count": 11,
   "metadata": {},
   "outputs": [
    {
     "name": "stdout",
     "output_type": "stream",
     "text": [
      "Enter Num_1: 6\n",
      "6\n",
      "Enter Num_2: 5\n",
      "5\n",
      "5 and 6 are new values of x and y respectively\n"
     ]
    }
   ],
   "source": [
    "A = input(\"Enter Num_1: \")\n",
    "print(A)\n",
    "B = input(\"Enter Num_2: \")\n",
    "print(B)\n",
    "\n",
    "temp = A\n",
    "A = B\n",
    "B = temp\n",
    "\n",
    "print(\"{} and {} are new values of x and y respectively\".format(A,B))\n"
   ]
  },
  {
   "cell_type": "markdown",
   "metadata": {},
   "source": [
    "### Q.5 Write a Python program to generate a random number?"
   ]
  },
  {
   "cell_type": "code",
   "execution_count": 12,
   "metadata": {},
   "outputs": [
    {
     "name": "stdout",
     "output_type": "stream",
     "text": [
      "0.5167101431098047\n"
     ]
    }
   ],
   "source": [
    "import random\n",
    "randnum = random.random()\n",
    "print(randnum)"
   ]
  },
  {
   "cell_type": "markdown",
   "metadata": {},
   "source": [
    "## THE END"
   ]
  }
 ],
 "metadata": {
  "kernelspec": {
   "display_name": "Python 3",
   "language": "python",
   "name": "python3"
  },
  "language_info": {
   "codemirror_mode": {
    "name": "ipython",
    "version": 3
   },
   "file_extension": ".py",
   "mimetype": "text/x-python",
   "name": "python",
   "nbconvert_exporter": "python",
   "pygments_lexer": "ipython3",
   "version": "3.8.5"
  }
 },
 "nbformat": 4,
 "nbformat_minor": 4
}
