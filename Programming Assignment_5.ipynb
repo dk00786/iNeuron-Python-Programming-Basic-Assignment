{
 "cells": [
  {
   "cell_type": "markdown",
   "metadata": {},
   "source": [
    "## Programming Assignment_5"
   ]
  },
  {
   "cell_type": "markdown",
   "metadata": {},
   "source": [
    "### 1. Write a Python Program to Find LCM?"
   ]
  },
  {
   "cell_type": "code",
   "execution_count": 18,
   "metadata": {},
   "outputs": [
    {
     "name": "stdout",
     "output_type": "stream",
     "text": [
      "LCM of 4 and 15 is 60\n"
     ]
    }
   ],
   "source": [
    "def lcm(num_1,num_2):\n",
    "    if num_1>num_2:\n",
    "        max = num_1\n",
    "    else:\n",
    "        max = num_2\n",
    "    while True:\n",
    "        if max%num_1==0 and max%num_2==0:\n",
    "            print(\"LCM of {} and {} is {}\".format(num_1, num_2, max))\n",
    "            break\n",
    "        max = max+1\n",
    "lcm(4,15)  "
   ]
  },
  {
   "cell_type": "markdown",
   "metadata": {},
   "source": [
    "### 2. Write a Python Program to Find HCF?"
   ]
  },
  {
   "cell_type": "code",
   "execution_count": 30,
   "metadata": {},
   "outputs": [
    {
     "name": "stdout",
     "output_type": "stream",
     "text": [
      "HCF is:  1\n"
     ]
    }
   ],
   "source": [
    "def hcf(num_1,num_2):\n",
    "    if num_1<num_2:\n",
    "        min = num_1\n",
    "    else:\n",
    "        min = num_2\n",
    "    for i in range(1,min+1):\n",
    "        if num_1%i==0 and num_2%i==0:\n",
    "            hcf=i\n",
    "            break\n",
    "    print(\"HCF is: \", hcf)\n",
    "hcf(12,2)"
   ]
  },
  {
   "cell_type": "markdown",
   "metadata": {},
   "source": [
    "### 3. Write a Python Program to Convert Decimal to Binary, Octal and Hexadecimal?"
   ]
  },
  {
   "cell_type": "code",
   "execution_count": 31,
   "metadata": {},
   "outputs": [
    {
     "name": "stdout",
     "output_type": "stream",
     "text": [
      "Enter Decimal Number: 95\n",
      "Decimal to Binary:  0b1011111\n",
      "Decimal to Octal:  0o137\n",
      "Decimal to Hexadecimal:  0x5f\n"
     ]
    }
   ],
   "source": [
    "num = int(input(\"Enter Decimal Number: \"))\n",
    "print(\"Decimal to Binary: \",bin(num))\n",
    "print(\"Decimal to Octal: \",oct(num))\n",
    "print(\"Decimal to Hexadecimal: \",hex(num))"
   ]
  },
  {
   "cell_type": "markdown",
   "metadata": {},
   "source": [
    "### 4. Write a Python Program To Find ASCII value of a character?"
   ]
  },
  {
   "cell_type": "code",
   "execution_count": 34,
   "metadata": {},
   "outputs": [
    {
     "data": {
      "text/plain": [
       "68"
      ]
     },
     "execution_count": 34,
     "metadata": {},
     "output_type": "execute_result"
    }
   ],
   "source": [
    "def ascii_value(character):\n",
    "    return ord(character)\n",
    "\n",
    "ascii_value(\"D\")\n"
   ]
  },
  {
   "cell_type": "markdown",
   "metadata": {},
   "source": [
    "### 5. Write a Python Program to Make a Simple Calculator with 4 basic mathematical operations?"
   ]
  },
  {
   "cell_type": "code",
   "execution_count": 36,
   "metadata": {},
   "outputs": [],
   "source": [
    "def calculator(a,b):\n",
    "    ops = str(input(\"What operation would you like to perform: \"))\n",
    "    if ops == \"add\":\n",
    "        print(\"{} + {} = {}\".format(a,b,a+b))\n",
    "    elif ops == \"substract\":\n",
    "        print(\"{} - {} = {}\".format(a,b,a-b))\n",
    "    elif ops == \"multiply\":\n",
    "        print(\"{} X {} = {}\".format(a,b,a*b))\n",
    "    elif ops == \"division\":\n",
    "        print(\"{} / {} = {}\".format(a,b,a/b))\n",
    "    else:\n",
    "        print(\"Enter correct operation\")"
   ]
  },
  {
   "cell_type": "code",
   "execution_count": 37,
   "metadata": {},
   "outputs": [
    {
     "name": "stdout",
     "output_type": "stream",
     "text": [
      "What operation would you like to perform: multiply\n",
      "19 X 19 = 361\n"
     ]
    }
   ],
   "source": [
    "calculator(19,19)"
   ]
  },
  {
   "cell_type": "code",
   "execution_count": 38,
   "metadata": {},
   "outputs": [
    {
     "name": "stdout",
     "output_type": "stream",
     "text": [
      "What operation would you like to perform: add\n",
      "9.5 + 9.5 = 19.0\n"
     ]
    }
   ],
   "source": [
    "calculator(9.5,9.5)"
   ]
  },
  {
   "cell_type": "code",
   "execution_count": 39,
   "metadata": {},
   "outputs": [
    {
     "name": "stdout",
     "output_type": "stream",
     "text": [
      "What operation would you like to perform: substract\n",
      "19 - 11 = 8\n"
     ]
    }
   ],
   "source": [
    "calculator(19,11)"
   ]
  },
  {
   "cell_type": "code",
   "execution_count": 40,
   "metadata": {},
   "outputs": [
    {
     "name": "stdout",
     "output_type": "stream",
     "text": [
      "What operation would you like to perform: division\n",
      "111 / 11 = 10.090909090909092\n"
     ]
    }
   ],
   "source": [
    "calculator(111,10)"
   ]
  },
  {
   "cell_type": "markdown",
   "metadata": {},
   "source": [
    "## THE END"
   ]
  }
 ],
 "metadata": {
  "kernelspec": {
   "display_name": "Python 3",
   "language": "python",
   "name": "python3"
  },
  "language_info": {
   "codemirror_mode": {
    "name": "ipython",
    "version": 3
   },
   "file_extension": ".py",
   "mimetype": "text/x-python",
   "name": "python",
   "nbconvert_exporter": "python",
   "pygments_lexer": "ipython3",
   "version": "3.8.5"
  }
 },
 "nbformat": 4,
 "nbformat_minor": 4
}
